{
 "cells": [
  {
   "cell_type": "code",
   "execution_count": 8,
   "id": "f5756ae1-2026-406f-8d73-0ebad9fe2e23",
   "metadata": {},
   "outputs": [],
   "source": [
    "import torch\n",
    "import torchvision\n",
    "import scipy.io\n",
    "import numpy as np\n",
    "from my_network import *"
   ]
  },
  {
   "cell_type": "code",
   "execution_count": 11,
   "id": "ca80ca8f-0b19-44f3-9f4d-7e9a45cb245f",
   "metadata": {},
   "outputs": [],
   "source": [
    "name = 'BlackBoxData_80'\n",
    "# name = 'BlackBoxData'\n",
    "# name = '../BlackBoxData/data1'\n",
    "mat = scipy.io.loadmat('./Data/'+name)\n",
    "x = np.array(mat['x']).reshape(-1,1)/2**15\n",
    "d = np.array(mat['y']).reshape(-1,1)/2**15\n",
    "# x = np.array(mat['xE']).reshape(-1,1)/2**15\n",
    "# d = np.array(mat['d']).reshape(-1,1)/2**15\n",
    "# x, d = mat['xE'], mat['d']\n",
    "x_real, x_imag = torch.from_numpy(np.real(x)), torch.from_numpy(np.imag(x))\n",
    "d_real, d_imag = torch.from_numpy(np.real(d)), torch.from_numpy(np.imag(d))\n",
    "X = (torch.cat((x_real, x_imag), dim=1)).reshape(-1,2,1).type(torch.FloatTensor).permute(1,2,0)\n",
    "D = (torch.cat((d_real, d_imag), dim=1)).reshape(-1,2,1).type(torch.FloatTensor).permute(1,2,0)\n",
    "\n",
    "# train_queue = torch.utils.data.DataLoader(\n",
    "#     torch.cat((X,D),dim=-1), batch_size=Batch_size)#, pin_memory=True)\n",
    "\n",
    "# valid_queue = torch.utils.data.DataLoader(\n",
    "#     torch.cat((X,D),dim=-1), batch_size=X.shape[0])#,pin_memory=True)"
   ]
  },
  {
   "cell_type": "code",
   "execution_count": 12,
   "id": "07c5852b-f2b7-4d42-9881-59d3298ae262",
   "metadata": {},
   "outputs": [
    {
     "data": {
      "text/plain": [
       "torch.Size([2, 1, 99840])"
      ]
     },
     "execution_count": 12,
     "metadata": {},
     "output_type": "execute_result"
    }
   ],
   "source": [
    "X.shape"
   ]
  }
 ],
 "metadata": {
  "kernelspec": {
   "display_name": "Python 3",
   "language": "python",
   "name": "python3"
  },
  "language_info": {
   "codemirror_mode": {
    "name": "ipython",
    "version": 3
   },
   "file_extension": ".py",
   "mimetype": "text/x-python",
   "name": "python",
   "nbconvert_exporter": "python",
   "pygments_lexer": "ipython3",
   "version": "3.7.9"
  }
 },
 "nbformat": 4,
 "nbformat_minor": 5
}
